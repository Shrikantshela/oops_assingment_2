{
 "cells": [
  {
   "cell_type": "code",
   "execution_count": null,
   "id": "f767badf-86fe-43db-a05b-340876ccfbe7",
   "metadata": {},
   "outputs": [],
   "source": [
    "# Q1. What is Abstraction in OOps? Explain with an example.\n",
    "ans : Abstraction is the process of hiding the internal details of an application from the outer world. Abstraction is used to describe things in simple terms.\n",
    "      It’s used to create a boundary between the application and the client programs.\n",
    "     # Python program demonstrate  \n",
    "# abstract base class work   \n",
    "from abc import ABC, abstractmethod   \n",
    "class Car(ABC):   \n",
    "    def mileage(self):   \n",
    "        pass  \n",
    "  \n",
    "class Tesla(Car):   \n",
    "    def mileage(self):   \n",
    "        print(\"The mileage is 30kmph\")   \n",
    "class Suzuki(Car):   \n",
    "    def mileage(self):   \n",
    "        print(\"The mileage is 25kmph \")   \n",
    "class Duster(Car):   \n",
    "     def mileage(self):   \n",
    "          print(\"The mileage is 24kmph \")   \n",
    "  \n",
    "class Renault(Car):   \n",
    "    def mileage(self):   \n",
    "            print(\"The mileage is 27kmph \")   \n",
    "          \n",
    "# Driver code   \n",
    "t= Tesla ()   \n",
    "t.mileage()   \n",
    "  \n",
    "r = Renault()   \n",
    "r.mileage()   \n",
    "  \n",
    "s = Suzuki()   \n",
    "s.mileage()   \n",
    "d = Duster()   \n",
    "d.mileage()  "
   ]
  },
  {
   "cell_type": "code",
   "execution_count": null,
   "id": "b412bfd5-1f83-4c6b-a8d3-0be8b29ec8fd",
   "metadata": {},
   "outputs": [],
   "source": [
    "# Q2. Differentiate between Abstraction and Encapsulation. Explain with an example.\n",
    "ans : Abstraction\n",
    "Abstraction is the process or method of gaining the information.\n",
    "In abstraction, problems are solved at the design or interface level.\n",
    "Abstraction is the method of hiding the unwanted information\n",
    "We can implement abstraction using abstract class and interfaces.\n",
    "\n",
    "\n",
    "Encapsulation\n",
    "While encapsulation is the process or method to contain the information.\n",
    "While in encapsulation, problems are solved at the implementation level.\n",
    "Whereas encapsulation is a method to hide the data in a single entity \n",
    "or unit along with a method to protect information from outside"
   ]
  },
  {
   "cell_type": "code",
   "execution_count": null,
   "id": "f8adc6fc-3be0-4089-921d-50e0c417e0cf",
   "metadata": {},
   "outputs": [],
   "source": [
    "# Q3. What is abc module in python? Why is it used?\n",
    "ans : The 'abc' module in Python library provides the infrastructure for defining custom abstract base classes. 'abc' works by marking methods of the base class as abstract.\n",
    "      This is done by @absttractmethod decorator."
   ]
  },
  {
   "cell_type": "code",
   "execution_count": null,
   "id": "a88d202d-f2f9-4a82-a50a-8d5f7162bcb5",
   "metadata": {},
   "outputs": [],
   "source": [
    "# Q4. How can we achieve data abstraction?\n",
    "ans : Data Abstraction in Python can be achieved through creating abstract classes and inheriting them later. Before discussing what abstract classes are, let us have a brief introduction of inheritance. Inheritance in OOP is a\n",
    "      way through which one class inherits the attributes and methods of another class."
   ]
  },
  {
   "cell_type": "code",
   "execution_count": null,
   "id": "f4153fa8-2b84-4472-8570-94944fd2464c",
   "metadata": {},
   "outputs": [],
   "source": [
    "# Q5. Can we create an instance of an abstract class? Explain your answer.\n",
    "ans : Abstract classes cannot be instantiated, but they can be subclassed. When an abstract class is subclassed, the subclass usually provides implementations for all of the abstract methods in its parent class. However, \n",
    "      if it does not, then the subclass must also be declared abstract"
   ]
  }
 ],
 "metadata": {
  "kernelspec": {
   "display_name": "Python 3 (ipykernel)",
   "language": "python",
   "name": "python3"
  },
  "language_info": {
   "codemirror_mode": {
    "name": "ipython",
    "version": 3
   },
   "file_extension": ".py",
   "mimetype": "text/x-python",
   "name": "python",
   "nbconvert_exporter": "python",
   "pygments_lexer": "ipython3",
   "version": "3.10.8"
  }
 },
 "nbformat": 4,
 "nbformat_minor": 5
}
